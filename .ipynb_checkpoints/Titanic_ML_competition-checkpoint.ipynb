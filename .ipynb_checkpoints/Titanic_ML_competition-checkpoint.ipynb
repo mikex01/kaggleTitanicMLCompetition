{
 "cells": [
  {
   "cell_type": "markdown",
   "metadata": {},
   "source": [
    "## Titanc\n",
    "### En abril 15 del año 1912 muere 1502 personas del 2224 en el hundimiento del crusero titanic.\n",
    "### El reto es reponder una pregunta crusial de cuantas personas tenia mas probabilidad de sobrevivir estudiando algunos datos de los pasageros.\n",
    "    Tales como:\n",
    "        El nombre,\n",
    "        La edad,\n",
    "        El genero,\n",
    "        Clase socioeconomico\n",
    "        etc"
   ]
  },
  {
   "cell_type": "code",
   "execution_count": null,
   "metadata": {},
   "outputs": [],
   "source": [
    "##importando librerias\n",
    "import pandas as pd"
   ]
  }
 ],
 "metadata": {
  "kernelspec": {
   "display_name": "Python 3",
   "language": "python",
   "name": "python3"
  },
  "language_info": {
   "codemirror_mode": {
    "name": "ipython",
    "version": 3
   },
   "file_extension": ".py",
   "mimetype": "text/x-python",
   "name": "python",
   "nbconvert_exporter": "python",
   "pygments_lexer": "ipython3",
   "version": "3.7.1"
  }
 },
 "nbformat": 4,
 "nbformat_minor": 4
}
